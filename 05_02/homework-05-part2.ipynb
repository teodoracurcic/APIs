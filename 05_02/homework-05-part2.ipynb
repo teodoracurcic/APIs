{
 "cells": [
  {
   "cell_type": "markdown",
   "id": "4a647de2",
   "metadata": {},
   "source": [
    "*hiding API*"
   ]
  },
  {
   "cell_type": "code",
   "execution_count": 1,
   "id": "31c226fa",
   "metadata": {},
   "outputs": [
    {
     "data": {
      "text/plain": [
       "True"
      ]
     },
     "execution_count": 1,
     "metadata": {},
     "output_type": "execute_result"
    }
   ],
   "source": [
    "from dotenv import load_dotenv\n",
    "load_dotenv()"
   ]
  },
  {
   "cell_type": "code",
   "execution_count": 2,
   "id": "2ae57981",
   "metadata": {},
   "outputs": [],
   "source": [
    "import os"
   ]
  },
  {
   "cell_type": "markdown",
   "id": "5f4af90f",
   "metadata": {},
   "source": [
    "1. Examine both Open Meteo and Tomorrow and decide which one you'd prefer to use. What drove your decision?\n",
    "\n",
    "*Tomorrow had a better structured and more understandable documentation + country info available. Still, it was not the best, especially after I have used up my limits on the 6th question and had to wait and wait and wait.*"
   ]
  },
  {
   "cell_type": "markdown",
   "id": "66fd7dca",
   "metadata": {},
   "source": [
    "2. What is the URL to the documentation? (You don't use code for this one)\n",
    "\n",
    "*[Tomorrow.io docs](https://docs.tomorrow.io/reference/welcome)*"
   ]
  },
  {
   "cell_type": "markdown",
   "id": "7e1a3f60",
   "metadata": {},
   "source": [
    "3. Make a request for the current weather where you are born, or somewhere you've lived."
   ]
  },
  {
   "cell_type": "code",
   "execution_count": 10,
   "id": "64fa488d",
   "metadata": {},
   "outputs": [],
   "source": [
    "import requests\n",
    "api_key=os.getenv(\"api_key\")\n",
    "response = requests.get(f\"https://api.tomorrow.io/v4/weather/realtime?location=beograd&apikey={api_key}\")\n",
    "belgrade = response.json()"
   ]
  },
  {
   "cell_type": "markdown",
   "id": "2cc87b97",
   "metadata": {},
   "source": [
    "4. Print out the country this location is in.\n"
   ]
  },
  {
   "cell_type": "code",
   "execution_count": 11,
   "id": "a688a6f5",
   "metadata": {},
   "outputs": [
    {
     "name": "stdout",
     "output_type": "stream",
     "text": [
      "location is Град Београд, Централна Србија, Србија\n",
      "country is Србија\n"
     ]
    }
   ],
   "source": [
    "print(f\"location is {belgrade['location']['name']}\")\n",
    "\n",
    "#or if we want to trim it to country only\n",
    "print(f\"country is {belgrade['location']['name'][-6:]}\")\n"
   ]
  },
  {
   "cell_type": "markdown",
   "id": "5a4aec82",
   "metadata": {},
   "source": [
    "5. Print out the difference between the current temperature and how warm it feels. Use \"It feels ___ degrees colder\" or \"It feels ___ degrees warmer,\" not negative numbers."
   ]
  },
  {
   "cell_type": "code",
   "execution_count": 12,
   "id": "bc82b7e7",
   "metadata": {},
   "outputs": [
    {
     "name": "stdout",
     "output_type": "stream",
     "text": [
      "The temperature is 25.3°C degrees, and it feels just like that.\n"
     ]
    }
   ],
   "source": [
    "belgrade_now = belgrade['data']['values']['temperature'] \n",
    "belgrade_feels = belgrade['data']['values']['temperatureApparent']\n",
    "\n",
    "temperature_difference = belgrade_now - belgrade_feels\n",
    "\n",
    "if temperature_difference > 0:\n",
    "    print(f\"It feels {temperature_difference}°C degrees colder \")\n",
    "elif temperature_difference < 0:\n",
    "    print (f\"It feels {abs(temperature_difference)}°C degrees warmer\")\n",
    "else:\n",
    "    print(f\"The temperature is {belgrade_now}°C degrees, and it feels just like that.\")"
   ]
  },
  {
   "cell_type": "markdown",
   "id": "8b3e1c36",
   "metadata": {},
   "source": [
    "6. What's the current temperature at Heathrow International Airport? Use the airport's IATA code to search."
   ]
  },
  {
   "cell_type": "code",
   "execution_count": 13,
   "id": "60825229",
   "metadata": {},
   "outputs": [
    {
     "name": "stdout",
     "output_type": "stream",
     "text": [
      "Current temperature at Heathrow International Airport is 24.5°C degrees.\n"
     ]
    }
   ],
   "source": [
    "response = requests.get(f\"https://api.tomorrow.io/v4/weather/realtime?location=51.479040%2C%20-0.461580&apikey={api_key}\")\n",
    "heathrow_now = response.json()\n",
    "\n",
    "print(f\"Current temperature at Heathrow International Airport is {heathrow_now['data']['values']['temperature']}°C degrees.\")"
   ]
  },
  {
   "cell_type": "markdown",
   "id": "7ffefc1c",
   "metadata": {},
   "source": [
    "7. What URL would I use to request a 3-day forecast at Heathrow?\n",
    "\n",
    "https://api.tomorrow.io/v4/weather/forecast?location=51.479040%2C%20-0.461580&timesteps=1d&timesteps=1d&units=metric&apikey={api_key}"
   ]
  },
  {
   "cell_type": "markdown",
   "id": "e71359fb",
   "metadata": {},
   "source": [
    "8. Print the date of each of the 3 days you're getting a forecast for."
   ]
  },
  {
   "cell_type": "code",
   "execution_count": 14,
   "id": "50bbd53f",
   "metadata": {},
   "outputs": [
    {
     "name": "stdout",
     "output_type": "stream",
     "text": [
      "date: 2025-06-11\n",
      "date: 2025-06-12\n",
      "date: 2025-06-13\n"
     ]
    }
   ],
   "source": [
    "response = requests.get(f\"https://api.tomorrow.io/v4/weather/forecast?location=51.479040%2C%20-0.461580&timesteps=1d&timesteps=1d&units=metric&apikey={api_key}\")\n",
    "heathrow = response.json()\n",
    "\n",
    "for day in heathrow['timelines']['daily'][:3]:\n",
    "    print(f\"date: {day['time'][:10]}\")"
   ]
  },
  {
   "cell_type": "markdown",
   "id": "5550664e",
   "metadata": {},
   "source": [
    "9. Print the maximum temperature of each of the days."
   ]
  },
  {
   "cell_type": "code",
   "execution_count": 15,
   "id": "47cee679",
   "metadata": {},
   "outputs": [
    {
     "name": "stdout",
     "output_type": "stream",
     "text": [
      "date: 2025-06-11, 24.5°C degrees\n",
      "date: 2025-06-12, 24.8°C degrees\n",
      "date: 2025-06-13, 27.5°C degrees\n"
     ]
    }
   ],
   "source": [
    "for day in heathrow['timelines']['daily'][:3]:\n",
    "        print(f\"date: {day['time'][0:10]}, {day['values']['temperatureMax']}°C degrees\")"
   ]
  },
  {
   "cell_type": "markdown",
   "id": "dc15f74e",
   "metadata": {},
   "source": [
    "10. Print only the day with the highest maximum temperature."
   ]
  },
  {
   "cell_type": "code",
   "execution_count": 16,
   "id": "015aec38",
   "metadata": {},
   "outputs": [
    {
     "name": "stdout",
     "output_type": "stream",
     "text": [
      "27.5\n"
     ]
    }
   ],
   "source": [
    "max_temp = float('-inf')\n",
    "\n",
    "for day in heathrow['timelines']['daily'][:3]:\n",
    "    if day['values']['temperatureMax'] > max_temp:\n",
    "        max_temp = day['values']['temperatureMax']\n",
    "\n",
    "print(f\"{max_temp}\")"
   ]
  },
  {
   "cell_type": "markdown",
   "id": "ea61e10e",
   "metadata": {},
   "source": [
    "11. Did you find this easier or more difficult than using the weatherapi.com, and why? Which would you recommend to someone interesting in building a tool around weather information?\n",
    "\n",
    "*Weather API was easier and I would say more straightforward, but I feel like I could do more with Tomorrow, or maybe I was just influenced with their dataviz in documentation. For beginners would recommend weatherapi.com*"
   ]
  },
  {
   "cell_type": "markdown",
   "id": "ecc14655",
   "metadata": {},
   "source": []
  }
 ],
 "metadata": {
  "kernelspec": {
   "display_name": "Python 3",
   "language": "python",
   "name": "python3"
  },
  "language_info": {
   "codemirror_mode": {
    "name": "ipython",
    "version": 3
   },
   "file_extension": ".py",
   "mimetype": "text/x-python",
   "name": "python",
   "nbconvert_exporter": "python",
   "pygments_lexer": "ipython3",
   "version": "3.11.8"
  }
 },
 "nbformat": 4,
 "nbformat_minor": 5
}
